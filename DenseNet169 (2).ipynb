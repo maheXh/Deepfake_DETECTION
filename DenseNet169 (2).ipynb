{
 "cells": [
  {
   "cell_type": "code",
   "execution_count": 1,
   "metadata": {},
   "outputs": [],
   "source": [
    "import sys\n",
    "import sklearn\n",
    "import tensorflow as tf\n",
    "import cv2\n",
    "import pandas as pd\n",
    "import numpy as np\n",
    "from sklearn.model_selection import train_test_split\n",
    "import plotly.graph_objs as go\n",
    "from plotly.offline import iplot\n",
    "from matplotlib import pyplot as plt\n"
   ]
  },
  {
   "cell_type": "code",
   "execution_count": 2,
   "metadata": {},
   "outputs": [],
   "source": [
    "def get_data():\n",
    "    return pd.read_csv('metadata.csv/metadata.csv')\n",
    "\n",
    "meta = get_data()\n"
   ]
  },
  {
   "cell_type": "code",
   "execution_count": 3,
   "metadata": {},
   "outputs": [],
   "source": [
    "real_df = meta[meta[\"label\"] == \"REAL\"]\n",
    "fake_df = meta[meta[\"label\"] == \"FAKE\"]\n",
    "sample_size = 8000\n",
    "\n",
    "real_df = real_df.sample(sample_size, random_state=42)\n",
    "fake_df = fake_df.sample(sample_size, random_state=42)\n",
    "\n",
    "sample_meta = pd.concat([real_df, fake_df])\n",
    "\n",
    "Train_set, Test_set = train_test_split(sample_meta, test_size=0.2, random_state=42, stratify=sample_meta['label'])\n",
    "Train_set, Val_set = train_test_split(Train_set, test_size=0.3, random_state=42, stratify=Train_set['label'])\n"
   ]
  },
  {
   "cell_type": "code",
   "execution_count": 4,
   "metadata": {},
   "outputs": [],
   "source": [
    "y = dict()\n",
    "y[0] = []\n",
    "y[1] = []\n",
    "\n",
    "for set_name in (np.array(Train_set['label']), np.array(Val_set['label']), np.array(Test_set['label'])):\n",
    "    y[0].append(np.sum(set_name == 'REAL'))\n",
    "    y[1].append(np.sum(set_name == 'FAKE'))\n",
    "\n",
    "# Visualization code using plotly or matplotlib\n",
    "# (Visualization code not shown for brevity)\n"
   ]
  },
  {
   "cell_type": "code",
   "execution_count": 6,
   "metadata": {},
   "outputs": [],
   "source": [
    "def retrieve_dataset(set_name):\n",
    "    images, labels = [], []\n",
    "    for (img, imclass) in zip(set_name['videoname'], set_name['label']):\n",
    "        images.append(cv2.imread('faces_224/'+img[:-4]+'.jpg'))\n",
    "        labels.append(1 if imclass == 'FAKE' else 0)\n",
    "    return np.array(images), np.array(labels)\n",
    "\n",
    "X_train, y_train = retrieve_dataset(Train_set)\n"
   ]
  },
  {
   "cell_type": "code",
   "execution_count": 7,
   "metadata": {},
   "outputs": [],
   "source": [
    "X_val, y_val = retrieve_dataset(Val_set)\n"
   ]
  },
  {
   "cell_type": "code",
   "execution_count": 8,
   "metadata": {},
   "outputs": [],
   "source": [
    "X_test, y_test = retrieve_dataset(Test_set)\n"
   ]
  },
  {
   "cell_type": "code",
   "execution_count": 9,
   "metadata": {},
   "outputs": [
    {
     "name": "stdout",
     "output_type": "stream",
     "text": [
      "Model: \"sequential\"\n",
      "_________________________________________________________________\n",
      " Layer (type)                Output Shape              Param #   \n",
      "=================================================================\n",
      " conv2d (Conv2D)             (None, 224, 224, 64)      9472      \n",
      "                                                                 \n",
      " max_pooling2d (MaxPooling2D  (None, 112, 112, 64)     0         \n",
      " )                                                               \n",
      "                                                                 \n",
      " conv2d_1 (Conv2D)           (None, 112, 112, 128)     73856     \n",
      "                                                                 \n",
      " conv2d_2 (Conv2D)           (None, 112, 112, 128)     147584    \n",
      "                                                                 \n",
      " max_pooling2d_1 (MaxPooling  (None, 56, 56, 128)      0         \n",
      " 2D)                                                             \n",
      "                                                                 \n",
      " flatten (Flatten)           (None, 401408)            0         \n",
      "                                                                 \n",
      " dense (Dense)               (None, 128)               51380352  \n",
      "                                                                 \n",
      " dropout (Dropout)           (None, 128)               0         \n",
      "                                                                 \n",
      " dense_1 (Dense)             (None, 64)                8256      \n",
      "                                                                 \n",
      " dropout_1 (Dropout)         (None, 64)                0         \n",
      "                                                                 \n",
      " dense_2 (Dense)             (None, 1)                 65        \n",
      "                                                                 \n",
      "=================================================================\n",
      "Total params: 51,619,585\n",
      "Trainable params: 51,619,585\n",
      "Non-trainable params: 0\n",
      "_________________________________________________________________\n"
     ]
    }
   ],
   "source": [
    "from functools import partial\n",
    "\n",
    "tf.random.set_seed(42) \n",
    "DefaultConv2D = partial(tf.keras.layers.Conv2D, kernel_size=3, padding=\"same\",\n",
    "                        activation=\"relu\", kernel_initializer=\"he_normal\")\n",
    "\n",
    "model = tf.keras.Sequential([\n",
    "    DefaultConv2D(filters=64, kernel_size=7, input_shape=[224, 224, 3]),\n",
    "    tf.keras.layers.MaxPool2D(),\n",
    "    DefaultConv2D(filters=128),\n",
    "    DefaultConv2D(filters=128),\n",
    "    tf.keras.layers.MaxPool2D(),\n",
    "    tf.keras.layers.Flatten(),\n",
    "    tf.keras.layers.Dense(units=128, activation=\"relu\",\n",
    "                          kernel_initializer=\"he_normal\"),\n",
    "    tf.keras.layers.Dropout(0.5),\n",
    "    tf.keras.layers.Dense(units=64, activation=\"relu\",\n",
    "                          kernel_initializer=\"he_normal\"),\n",
    "    tf.keras.layers.Dropout(0.5),\n",
    "    tf.keras.layers.Dense(units=1, activation=\"sigmoid\")\n",
    "])\n",
    "\n",
    "model.compile(loss=\"binary_crossentropy\", optimizer=\"nadam\", metrics=[\"accuracy\"])\n",
    "model.summary()\n"
   ]
  },
  {
   "cell_type": "code",
   "execution_count": 10,
   "metadata": {},
   "outputs": [
    {
     "name": "stdout",
     "output_type": "stream",
     "text": [
      "Epoch 1/5\n",
      "560/560 [==============================] - 79s 118ms/step - loss: 28.0643 - accuracy: 0.5028 - val_loss: 0.6924 - val_accuracy: 0.4924\n",
      "Epoch 2/5\n",
      "560/560 [==============================] - 64s 114ms/step - loss: 0.8660 - accuracy: 0.5087 - val_loss: 0.6936 - val_accuracy: 0.5120\n",
      "Epoch 3/5\n",
      "560/560 [==============================] - 65s 116ms/step - loss: 15.1853 - accuracy: 0.5030 - val_loss: 0.6952 - val_accuracy: 0.5125\n",
      "Epoch 4/5\n",
      "560/560 [==============================] - 66s 118ms/step - loss: 0.7344 - accuracy: 0.5302 - val_loss: 0.6855 - val_accuracy: 0.5562\n",
      "Epoch 5/5\n",
      "560/560 [==============================] - 61s 109ms/step - loss: 0.6822 - accuracy: 0.5621 - val_loss: 0.6821 - val_accuracy: 0.5573\n"
     ]
    }
   ],
   "source": [
    "history = model.fit(X_train, y_train, epochs=5, batch_size=16, validation_data=(X_val, y_val))\n"
   ]
  },
  {
   "cell_type": "code",
   "execution_count": 11,
   "metadata": {},
   "outputs": [
    {
     "name": "stdout",
     "output_type": "stream",
     "text": [
      "100/100 [==============================] - 5s 39ms/step - loss: 0.6813 - accuracy: 0.5572\n"
     ]
    }
   ],
   "source": [
    "score = model.evaluate(X_test, y_test)\n"
   ]
  },
  {
   "cell_type": "code",
   "execution_count": 12,
   "metadata": {},
   "outputs": [
    {
     "name": "stdout",
     "output_type": "stream",
     "text": [
      "Downloading data from https://storage.googleapis.com/tensorflow/keras-applications/densenet/densenet169_weights_tf_dim_ordering_tf_kernels_notop.h5\n",
      "51877672/51877672 [==============================] - 5s 0us/step\n"
     ]
    },
    {
     "name": "stderr",
     "output_type": "stream",
     "text": [
      "c:\\Users\\mahes\\anaconda3\\envs\\tf2\\lib\\site-packages\\keras\\optimizers\\optimizer_v2\\adam.py:114: UserWarning:\n",
      "\n",
      "The `lr` argument is deprecated, use `learning_rate` instead.\n",
      "\n"
     ]
    },
    {
     "name": "stdout",
     "output_type": "stream",
     "text": [
      "Epoch 1/5\n",
      "560/560 [==============================] - 76s 116ms/step - loss: 0.8566 - accuracy: 0.5167 - val_loss: 0.6895 - val_accuracy: 0.5362\n",
      "Epoch 2/5\n",
      "560/560 [==============================] - 62s 111ms/step - loss: 0.6922 - accuracy: 0.5195 - val_loss: 0.6914 - val_accuracy: 0.5151\n",
      "Epoch 3/5\n",
      "560/560 [==============================] - 61s 110ms/step - loss: 0.6922 - accuracy: 0.5194 - val_loss: 0.6843 - val_accuracy: 0.5466\n",
      "Epoch 4/5\n",
      "560/560 [==============================] - 62s 110ms/step - loss: 0.6921 - accuracy: 0.5093 - val_loss: 0.6890 - val_accuracy: 0.5120\n",
      "Epoch 5/5\n",
      "560/560 [==============================] - 61s 110ms/step - loss: 0.6891 - accuracy: 0.5300 - val_loss: 0.6864 - val_accuracy: 0.5654\n",
      "100/100 [==============================] - 16s 132ms/step - loss: 0.6875 - accuracy: 0.5525\n"
     ]
    }
   ],
   "source": [
    "base_model = tf.keras.applications.DenseNet169(weights='imagenet', include_top=False, input_shape=(224, 224, 3))\n",
    "\n",
    "for layer in base_model.layers:\n",
    "    layer.trainable = False\n",
    "\n",
    "x = tf.keras.layers.GlobalAveragePooling2D()(base_model.output)\n",
    "x = tf.keras.layers.Dense(128, activation='relu')(x)\n",
    "x = tf.keras.layers.Dropout(0.5)(x)\n",
    "output = tf.keras.layers.Dense(1, activation='sigmoid')(x)\n",
    "\n",
    "model = tf.keras.Model(inputs=base_model.input, outputs=output)\n",
    "\n",
    "model.compile(loss='binary_crossentropy',\n",
    "              optimizer=tf.keras.optimizers.Adam(lr=0.001),\n",
    "              metrics=['accuracy'])\n",
    "\n",
    "history = model.fit(X_train, y_train, epochs=5, batch_size=16, validation_data=(X_val, y_val))\n",
    "\n",
    "score = model.evaluate(X_test, y_test)\n"
   ]
  },
  {
   "cell_type": "code",
   "execution_count": 13,
   "metadata": {},
   "outputs": [
    {
     "name": "stdout",
     "output_type": "stream",
     "text": [
      "100/100 [==============================] - 15s 128ms/step\n"
     ]
    },
    {
     "data": {
      "image/png": "[encoded data removed]",
      "text/plain": [
       "<Figure size 800x600 with 1 Axes>"
      ]
     },
     "metadata": {},
     "output_type": "display_data"
    }
   ],
   "source": [
    "from sklearn.metrics import confusion_matrix\n",
    "import seaborn as sns\n",
    "\n",
    "# Assuming you have already evaluated the model and obtained predictions\n",
    "predictions = model.predict(X_test)\n",
    "y_pred = (predictions > 0.5).astype(\"int32\")  # Convert probabilities to binary predictions\n",
    "\n",
    "# Create confusion matrix\n",
    "cm = confusion_matrix(y_test, y_pred)\n",
    "\n",
    "# Plotting confusion matrix\n",
    "plt.figure(figsize=(8, 6))\n",
    "sns.heatmap(cm, annot=True, fmt='d', cmap='Blues', cbar=False)\n",
    "plt.xlabel('Predicted')\n",
    "plt.ylabel('True')\n",
    "plt.title('Confusion Matrix')\n",
    "plt.show()\n"
   ]
  }
 ],
 "metadata": {
  "kernelspec": {
   "display_name": "tf2",
   "language": "python",
   "name": "python3"
  },
  "language_info": {
   "codemirror_mode": {
    "name": "ipython",
    "version": 3
   },
   "file_extension": ".py",
   "mimetype": "text/x-python",
   "name": "python",
   "nbconvert_exporter": "python",
   "pygments_lexer": "ipython3",
   "version": "3.9.18"
  }
 },
 "nbformat": 4,
 "nbformat_minor": 2
}
